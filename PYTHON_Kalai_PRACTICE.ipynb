{
  "nbformat": 4,
  "nbformat_minor": 0,
  "metadata": {
    "colab": {
      "provenance": [],
      "include_colab_link": true
    },
    "kernelspec": {
      "name": "python3",
      "display_name": "Python 3"
    },
    "language_info": {
      "name": "python"
    }
  },
  "cells": [
    {
      "cell_type": "markdown",
      "metadata": {
        "id": "view-in-github",
        "colab_type": "text"
      },
      "source": [
        "<a href=\"https://colab.research.google.com/github/Kalairaj1993/Python_Practice/blob/practice/PYTHON_Kalai_PRACTICE.ipynb\" target=\"_parent\"><img src=\"https://colab.research.google.com/assets/colab-badge.svg\" alt=\"Open In Colab\"/></a>"
      ]
    },
    {
      "cell_type": "markdown",
      "source": [
        "## Conditional Statment"
      ],
      "metadata": {
        "id": "FUtDLDQArdgO"
      }
    },
    {
      "cell_type": "code",
      "execution_count": null,
      "metadata": {
        "colab": {
          "base_uri": "https://localhost:8080/"
        },
        "id": "4B16_5_2qerE",
        "outputId": "c14b423c-545f-42a2-bb64-3fddc55d13bd"
      },
      "outputs": [
        {
          "output_type": "stream",
          "name": "stdout",
          "text": [
            "Enter Age : 32\n",
            "ok\n"
          ]
        }
      ],
      "source": [
        "#me\n",
        "Age = int(input('Enter Age : '))\n",
        "\n",
        "if Age >= 21:\n",
        "  print ('ok')\n",
        "\n",
        "else:\n",
        "  print ('not ok')"
      ]
    },
    {
      "cell_type": "code",
      "source": [
        "# 100 - 91 Doctor, 90-81 Engineer, 80-71 Arts, 70-41 Diploma 40-0 Fail\n",
        "\n",
        "# Raja Yor Mark is 75 And your are Eligible for Diploma\n",
        "\n",
        "name = input('Enter your Name : ')\n",
        "mark = int(input('Enter your Mark : '))\n",
        "\n",
        "if mark >=91:\n",
        "  print('Doctor')\n",
        "\n",
        "if mark >=81:\n",
        "  print('Engineer')\n",
        "\n",
        "if mark >=71:\n",
        "  print('Arts')\n",
        "\n",
        "if mark >=41:\n",
        "  print('Diploma')\n",
        "\n",
        "else:\n",
        "  print('Fail')"
      ],
      "metadata": {
        "colab": {
          "base_uri": "https://localhost:8080/"
        },
        "id": "qoL8fAENrrqE",
        "outputId": "d1b2dddf-2a12-427c-baab-cd5e9609c266"
      },
      "execution_count": null,
      "outputs": [
        {
          "output_type": "stream",
          "name": "stdout",
          "text": [
            "Enter your Name : Kalai\n",
            "Enter your Mark : 32\n",
            "Fail\n"
          ]
        }
      ]
    },
    {
      "cell_type": "code",
      "source": [
        "# 100 - 91 Doctor, 90-81 Engineer, 80-71 Arts, 70-41 Diploma 40-0 Fail\n",
        "\n",
        "# Raja Yor Mark is 75 And your are Eligible for Diploma\n",
        "\n",
        "name = input('Enter your Name : ')\n",
        "mark = int(input('Enter your Mark : '))\n",
        "\n",
        "if mark >=91:\n",
        "  print(f'Your Name is {name}, Your Mark is {mark}, and you are eligible for Doctor')\n",
        "\n",
        "if mark >=81:\n",
        "  print(f'Your Name is {name}, Your Mark is {mark}, and you are eligible for Engineer')\n",
        "\n",
        "if mark >=71:\n",
        "  print(f'Your Name is {name}, Your Mark is {mark}, and you are eligible for Arts')\n",
        "\n",
        "if mark >=41:\n",
        "  print(f'Your Name is {name}, Your Mark is {mark}, and you are eligible for Diploma')\n",
        "\n",
        "else:\n",
        "  print(f'Your Name is {name}, Your Mark is {mark}, and you are eligible for Fail')"
      ],
      "metadata": {
        "colab": {
          "base_uri": "https://localhost:8080/"
        },
        "id": "-kMxLiUgrrhd",
        "outputId": "e8f859a8-1c94-4d68-a5ab-52f6fe81dc9c"
      },
      "execution_count": null,
      "outputs": [
        {
          "output_type": "stream",
          "name": "stdout",
          "text": [
            "Enter your Name : Kalairaj\n",
            "Enter your Mark : 94\n",
            "Your Name is Kalairaj, Your Mark is 94, and you are eligible for Doctor\n",
            "Your Name is Kalairaj, Your Mark is 94, and you are eligible for Engineer\n",
            "Your Name is Kalairaj, Your Mark is 94, and you are eligible for Arts\n",
            "Your Name is Kalairaj, Your Mark is 94, and you are eligible for Diploma\n"
          ]
        }
      ]
    },
    {
      "cell_type": "code",
      "source": [
        "# 100 - 91 Doctor, 90-81 Engineer, 80-71 Ats, 70-41 Diploma 40-0 Fail\n",
        "\n",
        "# Raja Yor Mark is 75 And your are Eligible for Diploma\n",
        "\n",
        "Name=input(\"Enter Your Name:\")\n",
        "Mark=int(input(\"Enter Your Mark:\"))\n",
        "\n",
        "if Mark>=91 and Mark<=100:\n",
        "  print(f\"{Name} Your Mark is {Mark} And you are Eligible for Doctor\")\n",
        "\n",
        "elif Mark>=81 and Mark<=90:\n",
        "  print(f\"{Name} Your Mark is {Mark} And you are Eligible for Engineer\")\n",
        "\n",
        "elif Mark>=71 and Mark<=80:\n",
        "  print(f\"{Name} Your Mark is {Mark} And you are Eligible for Ats\")\n",
        "\n",
        "elif Mark>=41 and Mark<=70:\n",
        "  print(f\"{Name} Your Mark is {Mark} And you are Eligible for Diploma\")\n",
        "\n",
        "else:\n",
        "  print(f\"{Name} Your Mark is {Mark} And you are Fail\")\n"
      ],
      "metadata": {
        "colab": {
          "base_uri": "https://localhost:8080/"
        },
        "id": "xcMIFIiYsPD3",
        "outputId": "2789956a-2798-4da2-af11-a718af9e2236"
      },
      "execution_count": null,
      "outputs": [
        {
          "output_type": "stream",
          "name": "stdout",
          "text": [
            "Enter Your Name:Kalairaj\n",
            "Enter Your Mark:94\n",
            "Kalairaj Your Mark is 94 And you are Eligible for Doctor\n"
          ]
        }
      ]
    },
    {
      "cell_type": "code",
      "source": [
        "# 100 - 91 Doctor, 90-81 Engineer, 80-71 Arts, 70-41 Diploma 40-0 Fail\n",
        "# Neet > 90 Doctor Eligible\n",
        "\n",
        "name = input('Enter Your Name : ')\n",
        "mark = int(input('Enter Your Mark : '))\n",
        "\n",
        "if mark >=91:\n",
        "  print(f'Your Name is {name}, your mark is {mark} and you are eligible for Doctor')\n",
        "\n",
        "if mark >=81:\n",
        "  print(f'Your Name is {name}, your mark is {mark} and you are eligible for Engineer')\n",
        "\n",
        "if mark >=71:\n",
        "  print(f'Your Name is {name}, your mark is {mark} and you are eligible for Arts')\n",
        "\n",
        "if mark >=41:\n",
        "  print(f'Your Name is {name}, your mark is {mark} and you are eligible for Diploma')\n",
        "\n",
        "else:\n",
        "  print(f'Your Name is {name}, your mark is {mark} and you are Fail')"
      ],
      "metadata": {
        "colab": {
          "base_uri": "https://localhost:8080/"
        },
        "id": "aPKvZdRssdz2",
        "outputId": "cff50614-d04c-4e0e-f8a7-e26a3ada4c3b"
      },
      "execution_count": null,
      "outputs": [
        {
          "output_type": "stream",
          "name": "stdout",
          "text": [
            "Enter Your Name : dd\n",
            "Enter Your Mark : 41\n",
            "Your Name is dd, your mark is 41 and you are eligible for Diploma\n"
          ]
        }
      ]
    },
    {
      "cell_type": "code",
      "source": [
        "# 100 - 91 Doctor, 90-81 Engineer, 80-71 Arts, 70-41 Diploma 40-0 Fail\n",
        "# Neet > 90 Doctor Eligible\n",
        "\n",
        "name = input('Enter Your Name : ')\n",
        "mark = int(input('Enter Your Mark : '))\n",
        "\n",
        "if mark >=91 and mark <=100:\n",
        "  neet = int(input('Enter Your NEET Score : '))\n",
        "  if neet >= 90:\n",
        "    print(f'Your Name is {name}, your mark is {mark} and your NEET Score is {neet} you are eligible for Doctor')\n",
        "  else:\n",
        "    print(f'Your Name is {name}, your mark is {mark} and your NEET Score is {neet} you are not eligible for Doctor')\n",
        "\n",
        "elif mark >=81:\n",
        "  print(f'Your Name is {name}, your mark is {mark} and you are eligible for Engineer')\n",
        "\n",
        "elif mark >=71:\n",
        "  print(f'Your Name is {name}, your mark is {mark} and you are eligible for Arts')\n",
        "\n",
        "elif mark >=41:\n",
        "  print(f'Your Name is {name}, your mark is {mark} and you are eligible for Diploma')\n",
        "\n",
        "else:\n",
        "  print(f'Your Name is {name}, your mark is {mark} and you are Fail')"
      ],
      "metadata": {
        "colab": {
          "base_uri": "https://localhost:8080/"
        },
        "id": "KVW5mjf8vrH9",
        "outputId": "45a94ce4-bba3-4f35-8536-b9091cb8190e"
      },
      "execution_count": null,
      "outputs": [
        {
          "output_type": "stream",
          "name": "stdout",
          "text": [
            "Enter Your Name : Kalairaj\n",
            "Enter Your Mark : 94\n",
            "Enter Your NEET Score : 90\n",
            "Your Name is Kalairaj, your mark is 94 and your NEET Score is 90 you are eligible for Doctor\n"
          ]
        }
      ]
    },
    {
      "cell_type": "markdown",
      "source": [
        "## Function"
      ],
      "metadata": {
        "id": "OgsrA52usIMh"
      }
    },
    {
      "cell_type": "code",
      "source": [
        "import math"
      ],
      "metadata": {
        "id": "KZhrR6APtVz5"
      },
      "execution_count": 8,
      "outputs": []
    },
    {
      "cell_type": "code",
      "source": [
        "# Odd_Or_Even\n",
        "\n",
        "import math\n",
        "\n",
        "l=[1,2,3,4,5]\n",
        "\n",
        "def i in (l):\n",
        "  if i/2==0:\n",
        "    print('even')\n",
        "  else:\n",
        "    print('odd')"
      ],
      "metadata": {
        "colab": {
          "base_uri": "https://localhost:8080/",
          "height": 106
        },
        "id": "aArJX-6StNpV",
        "outputId": "226c8172-43f4-4d10-d935-f312b2a4cb7e"
      },
      "execution_count": 6,
      "outputs": [
        {
          "output_type": "error",
          "ename": "SyntaxError",
          "evalue": "expected '(' (ipython-input-4038739252.py, line 7)",
          "traceback": [
            "\u001b[0;36m  File \u001b[0;32m\"/tmp/ipython-input-4038739252.py\"\u001b[0;36m, line \u001b[0;32m7\u001b[0m\n\u001b[0;31m    def i in (l):\u001b[0m\n\u001b[0m          ^\u001b[0m\n\u001b[0;31mSyntaxError\u001b[0m\u001b[0;31m:\u001b[0m expected '('\n"
          ]
        }
      ]
    },
    {
      "cell_type": "code",
      "source": [
        "# Odd_Or_Even\n",
        "\n",
        "l=[1,2,3,4,5]\n",
        "\n",
        "def Odd_Or_Even (l):\n",
        "\n",
        "  for i in l:\n",
        "    if i%2==0:\n",
        "      print(f'{i} is even')\n",
        "    else:\n",
        "      print(f'{i} is odd')\n",
        "\n",
        "Odd_Or_Even(l)"
      ],
      "metadata": {
        "id": "zTHtUsKRwBlF",
        "colab": {
          "base_uri": "https://localhost:8080/"
        },
        "outputId": "4dcc6604-cdf1-426d-fef3-e33e52e2c91e"
      },
      "execution_count": 9,
      "outputs": [
        {
          "output_type": "stream",
          "name": "stdout",
          "text": [
            "1 is odd\n",
            "2 is even\n",
            "3 is odd\n",
            "4 is even\n",
            "5 is odd\n"
          ]
        }
      ]
    }
  ]
}