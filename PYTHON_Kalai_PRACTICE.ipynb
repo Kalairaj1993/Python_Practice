{
  "nbformat": 4,
  "nbformat_minor": 0,
  "metadata": {
    "colab": {
      "provenance": [],
      "include_colab_link": true
    },
    "kernelspec": {
      "name": "python3",
      "display_name": "Python 3"
    },
    "language_info": {
      "name": "python"
    }
  },
  "cells": [
    {
      "cell_type": "markdown",
      "metadata": {
        "id": "view-in-github",
        "colab_type": "text"
      },
      "source": [
        "<a href=\"https://colab.research.google.com/github/Kalairaj1993/Python_Practice/blob/practice/PYTHON_Kalai_PRACTICE.ipynb\" target=\"_parent\"><img src=\"https://colab.research.google.com/assets/colab-badge.svg\" alt=\"Open In Colab\"/></a>"
      ]
    },
    {
      "cell_type": "markdown",
      "source": [
        "## Conditional Statment"
      ],
      "metadata": {
        "id": "FUtDLDQArdgO"
      }
    },
    {
      "cell_type": "code",
      "execution_count": null,
      "metadata": {
        "colab": {
          "base_uri": "https://localhost:8080/"
        },
        "id": "4B16_5_2qerE",
        "outputId": "c14b423c-545f-42a2-bb64-3fddc55d13bd"
      },
      "outputs": [
        {
          "output_type": "stream",
          "name": "stdout",
          "text": [
            "Enter Age : 32\n",
            "ok\n"
          ]
        }
      ],
      "source": [
        "#me\n",
        "Age = int(input('Enter Age : '))\n",
        "\n",
        "if Age >= 21:\n",
        "  print ('ok')\n",
        "\n",
        "else:\n",
        "  print ('not ok')"
      ]
    },
    {
      "cell_type": "code",
      "source": [
        "# 100 - 91 Doctor, 90-81 Engineer, 80-71 Arts, 70-41 Diploma 40-0 Fail\n",
        "\n",
        "# Raja Yor Mark is 75 And your are Eligible for Diploma\n",
        "\n",
        "name = input('Enter your Name : ')\n",
        "mark = int(input('Enter your Mark : '))\n",
        "\n",
        "if mark >=91:\n",
        "  print('Doctor')\n",
        "\n",
        "if mark >=81:\n",
        "  print('Engineer')\n",
        "\n",
        "if mark >=71:\n",
        "  print('Arts')\n",
        "\n",
        "if mark >=41:\n",
        "  print('Diploma')\n",
        "\n",
        "else:\n",
        "  print('Fail')"
      ],
      "metadata": {
        "colab": {
          "base_uri": "https://localhost:8080/"
        },
        "id": "qoL8fAENrrqE",
        "outputId": "d1b2dddf-2a12-427c-baab-cd5e9609c266"
      },
      "execution_count": null,
      "outputs": [
        {
          "output_type": "stream",
          "name": "stdout",
          "text": [
            "Enter your Name : Kalai\n",
            "Enter your Mark : 32\n",
            "Fail\n"
          ]
        }
      ]
    },
    {
      "cell_type": "code",
      "source": [
        "# 100 - 91 Doctor, 90-81 Engineer, 80-71 Arts, 70-41 Diploma 40-0 Fail\n",
        "\n",
        "# Raja Yor Mark is 75 And your are Eligible for Diploma\n",
        "\n",
        "name = input('Enter your Name : ')\n",
        "mark = int(input('Enter your Mark : '))\n",
        "\n",
        "if mark >=91:\n",
        "  print(f'Your Name is {name}, Your Mark is {mark}, and you are eligible for Doctor')\n",
        "\n",
        "if mark >=81:\n",
        "  print(f'Your Name is {name}, Your Mark is {mark}, and you are eligible for Engineer')\n",
        "\n",
        "if mark >=71:\n",
        "  print(f'Your Name is {name}, Your Mark is {mark}, and you are eligible for Arts')\n",
        "\n",
        "if mark >=41:\n",
        "  print(f'Your Name is {name}, Your Mark is {mark}, and you are eligible for Diploma')\n",
        "\n",
        "else:\n",
        "  print(f'Your Name is {name}, Your Mark is {mark}, and you are eligible for Fail')"
      ],
      "metadata": {
        "colab": {
          "base_uri": "https://localhost:8080/"
        },
        "id": "-kMxLiUgrrhd",
        "outputId": "e8f859a8-1c94-4d68-a5ab-52f6fe81dc9c"
      },
      "execution_count": null,
      "outputs": [
        {
          "output_type": "stream",
          "name": "stdout",
          "text": [
            "Enter your Name : Kalairaj\n",
            "Enter your Mark : 94\n",
            "Your Name is Kalairaj, Your Mark is 94, and you are eligible for Doctor\n",
            "Your Name is Kalairaj, Your Mark is 94, and you are eligible for Engineer\n",
            "Your Name is Kalairaj, Your Mark is 94, and you are eligible for Arts\n",
            "Your Name is Kalairaj, Your Mark is 94, and you are eligible for Diploma\n"
          ]
        }
      ]
    },
    {
      "cell_type": "code",
      "source": [
        "# 100 - 91 Doctor, 90-81 Engineer, 80-71 Ats, 70-41 Diploma 40-0 Fail\n",
        "\n",
        "# Raja Yor Mark is 75 And your are Eligible for Diploma\n",
        "\n",
        "Name=input(\"Enter Your Name:\")\n",
        "Mark=int(input(\"Enter Your Mark:\"))\n",
        "\n",
        "if Mark>=91 and Mark<=100:\n",
        "  print(f\"{Name} Your Mark is {Mark} And you are Eligible for Doctor\")\n",
        "\n",
        "elif Mark>=81 and Mark<=90:\n",
        "  print(f\"{Name} Your Mark is {Mark} And you are Eligible for Engineer\")\n",
        "\n",
        "elif Mark>=71 and Mark<=80:\n",
        "  print(f\"{Name} Your Mark is {Mark} And you are Eligible for Ats\")\n",
        "\n",
        "elif Mark>=41 and Mark<=70:\n",
        "  print(f\"{Name} Your Mark is {Mark} And you are Eligible for Diploma\")\n",
        "\n",
        "else:\n",
        "  print(f\"{Name} Your Mark is {Mark} And you are Fail\")\n"
      ],
      "metadata": {
        "colab": {
          "base_uri": "https://localhost:8080/"
        },
        "id": "xcMIFIiYsPD3",
        "outputId": "2789956a-2798-4da2-af11-a718af9e2236"
      },
      "execution_count": null,
      "outputs": [
        {
          "output_type": "stream",
          "name": "stdout",
          "text": [
            "Enter Your Name:Kalairaj\n",
            "Enter Your Mark:94\n",
            "Kalairaj Your Mark is 94 And you are Eligible for Doctor\n"
          ]
        }
      ]
    },
    {
      "cell_type": "code",
      "source": [
        "# 100 - 91 Doctor, 90-81 Engineer, 80-71 Arts, 70-41 Diploma 40-0 Fail\n",
        "# Neet > 90 Doctor Eligible\n",
        "\n",
        "name = input('Enter Your Name : ')\n",
        "mark = int(input('Enter Your Mark : '))\n",
        "\n",
        "if mark >=91:\n",
        "  print(f'Your Name is {name}, your mark is {mark} and you are eligible for Doctor')\n",
        "\n",
        "if mark >=81:\n",
        "  print(f'Your Name is {name}, your mark is {mark} and you are eligible for Engineer')\n",
        "\n",
        "if mark >=71:\n",
        "  print(f'Your Name is {name}, your mark is {mark} and you are eligible for Arts')\n",
        "\n",
        "if mark >=41:\n",
        "  print(f'Your Name is {name}, your mark is {mark} and you are eligible for Diploma')\n",
        "\n",
        "else:\n",
        "  print(f'Your Name is {name}, your mark is {mark} and you are Fail')"
      ],
      "metadata": {
        "colab": {
          "base_uri": "https://localhost:8080/"
        },
        "id": "aPKvZdRssdz2",
        "outputId": "cff50614-d04c-4e0e-f8a7-e26a3ada4c3b"
      },
      "execution_count": null,
      "outputs": [
        {
          "output_type": "stream",
          "name": "stdout",
          "text": [
            "Enter Your Name : dd\n",
            "Enter Your Mark : 41\n",
            "Your Name is dd, your mark is 41 and you are eligible for Diploma\n"
          ]
        }
      ]
    },
    {
      "cell_type": "code",
      "source": [
        "# 100 - 91 Doctor, 90-81 Engineer, 80-71 Arts, 70-41 Diploma 40-0 Fail\n",
        "# Neet > 90 Doctor Eligible\n",
        "\n",
        "name = input('Enter Your Name : ')\n",
        "mark = int(input('Enter Your Mark : '))\n",
        "\n",
        "if mark >=91 and mark <=100:\n",
        "  neet = int(input('Enter Your NEET Score : '))\n",
        "  if neet >= 90:\n",
        "    print(f'Your Name is {name}, your mark is {mark} and your NEET Score is {neet} you are eligible for Doctor')\n",
        "  else:\n",
        "    print(f'Your Name is {name}, your mark is {mark} and your NEET Score is {neet} you are not eligible for Doctor')\n",
        "\n",
        "elif mark >=81:\n",
        "  print(f'Your Name is {name}, your mark is {mark} and you are eligible for Engineer')\n",
        "\n",
        "elif mark >=71:\n",
        "  print(f'Your Name is {name}, your mark is {mark} and you are eligible for Arts')\n",
        "\n",
        "elif mark >=41:\n",
        "  print(f'Your Name is {name}, your mark is {mark} and you are eligible for Diploma')\n",
        "\n",
        "else:\n",
        "  print(f'Your Name is {name}, your mark is {mark} and you are Fail')"
      ],
      "metadata": {
        "colab": {
          "base_uri": "https://localhost:8080/"
        },
        "id": "KVW5mjf8vrH9",
        "outputId": "45a94ce4-bba3-4f35-8536-b9091cb8190e"
      },
      "execution_count": null,
      "outputs": [
        {
          "output_type": "stream",
          "name": "stdout",
          "text": [
            "Enter Your Name : Kalairaj\n",
            "Enter Your Mark : 94\n",
            "Enter Your NEET Score : 90\n",
            "Your Name is Kalairaj, your mark is 94 and your NEET Score is 90 you are eligible for Doctor\n"
          ]
        }
      ]
    },
    {
      "cell_type": "markdown",
      "source": [
        "## Function"
      ],
      "metadata": {
        "id": "OgsrA52usIMh"
      }
    },
    {
      "cell_type": "code",
      "source": [
        "import math"
      ],
      "metadata": {
        "id": "KZhrR6APtVz5"
      },
      "execution_count": null,
      "outputs": []
    },
    {
      "cell_type": "code",
      "source": [
        "# Odd_Or_Even\n",
        "\n",
        "import math\n",
        "\n",
        "l=[1,2,3,4,5]\n",
        "\n",
        "def i in (l):           # <--\n",
        "  if i/2==0:            # <--\n",
        "    print('even')\n",
        "  else:\n",
        "    print('odd')"
      ],
      "metadata": {
        "colab": {
          "base_uri": "https://localhost:8080/",
          "height": 106
        },
        "id": "aArJX-6StNpV",
        "outputId": "226c8172-43f4-4d10-d935-f312b2a4cb7e"
      },
      "execution_count": null,
      "outputs": [
        {
          "output_type": "error",
          "ename": "SyntaxError",
          "evalue": "expected '(' (ipython-input-4038739252.py, line 7)",
          "traceback": [
            "\u001b[0;36m  File \u001b[0;32m\"/tmp/ipython-input-4038739252.py\"\u001b[0;36m, line \u001b[0;32m7\u001b[0m\n\u001b[0;31m    def i in (l):\u001b[0m\n\u001b[0m          ^\u001b[0m\n\u001b[0;31mSyntaxError\u001b[0m\u001b[0;31m:\u001b[0m expected '('\n"
          ]
        }
      ]
    },
    {
      "cell_type": "code",
      "source": [
        "# Odd_Or_Even\n",
        "\n",
        "l=[1,2,3,4,5]\n",
        "\n",
        "def Odd_Or_Even (l):\n",
        "\n",
        "  for i in l:\n",
        "    if i%2==0:\n",
        "      print(f'{i} is even')\n",
        "    else:\n",
        "      print(f'{i} is odd')\n",
        "\n",
        "Odd_Or_Even(l)"
      ],
      "metadata": {
        "id": "zTHtUsKRwBlF",
        "colab": {
          "base_uri": "https://localhost:8080/"
        },
        "outputId": "4dcc6604-cdf1-426d-fef3-e33e52e2c91e"
      },
      "execution_count": null,
      "outputs": [
        {
          "output_type": "stream",
          "name": "stdout",
          "text": [
            "1 is odd\n",
            "2 is even\n",
            "3 is odd\n",
            "4 is even\n",
            "5 is odd\n"
          ]
        }
      ]
    },
    {
      "cell_type": "code",
      "source": [
        "l2=[10,12,13,54,65,78,89,100,178]\n",
        "\n",
        "def Odd_Or_Even(l2):\n",
        "  for i in l2:\n",
        "    if i%2==0:\n",
        "      print(f'{l2} is even')   # <-- i\n",
        "    else:\n",
        "      print(f'{l2} is odd')    # <-- i\n",
        "\n",
        "Odd_Or_Even(l2)"
      ],
      "metadata": {
        "colab": {
          "base_uri": "https://localhost:8080/"
        },
        "id": "0cNJ4DaXt0Qq",
        "outputId": "aa9445af-c90a-4530-f276-dac88834525b"
      },
      "execution_count": null,
      "outputs": [
        {
          "output_type": "stream",
          "name": "stdout",
          "text": [
            "[10, 12, 13, 54, 65, 78, 89, 100, 178] is even\n",
            "[10, 12, 13, 54, 65, 78, 89, 100, 178] is even\n",
            "[10, 12, 13, 54, 65, 78, 89, 100, 178] is odd\n",
            "[10, 12, 13, 54, 65, 78, 89, 100, 178] is even\n",
            "[10, 12, 13, 54, 65, 78, 89, 100, 178] is odd\n",
            "[10, 12, 13, 54, 65, 78, 89, 100, 178] is even\n",
            "[10, 12, 13, 54, 65, 78, 89, 100, 178] is odd\n",
            "[10, 12, 13, 54, 65, 78, 89, 100, 178] is even\n",
            "[10, 12, 13, 54, 65, 78, 89, 100, 178] is even\n"
          ]
        }
      ]
    },
    {
      "cell_type": "code",
      "source": [
        "l2=[10,12,13,54,65,78,89,100,178]\n",
        "\n",
        "def Odd_Or_Even(l2):\n",
        "  for i in l2:\n",
        "    if i%2==0:\n",
        "      print(f'{i} is even')\n",
        "    else:\n",
        "      print(f'{i} is odd')\n",
        "\n",
        "Odd_Or_Even(l2)"
      ],
      "metadata": {
        "colab": {
          "base_uri": "https://localhost:8080/"
        },
        "id": "qRgCsB9KuYnt",
        "outputId": "fd2c9042-c8c4-4044-b13c-4bd990ea0649"
      },
      "execution_count": null,
      "outputs": [
        {
          "output_type": "stream",
          "name": "stdout",
          "text": [
            "10 is even\n",
            "12 is even\n",
            "13 is odd\n",
            "54 is even\n",
            "65 is odd\n",
            "78 is even\n",
            "89 is odd\n",
            "100 is even\n",
            "178 is even\n"
          ]
        }
      ]
    },
    {
      "cell_type": "code",
      "source": [
        "# Square+5\n",
        "\n",
        "def square_5(5):       # <-- num\n",
        "  print (5**2+5)       # <-- num"
      ],
      "metadata": {
        "colab": {
          "base_uri": "https://localhost:8080/",
          "height": 106
        },
        "id": "9Dk6YCI3vObC",
        "outputId": "27a9a584-a0e3-4862-fb49-1d2f9bb4247b"
      },
      "execution_count": null,
      "outputs": [
        {
          "output_type": "error",
          "ename": "SyntaxError",
          "evalue": "invalid syntax (ipython-input-4043895020.py, line 3)",
          "traceback": [
            "\u001b[0;36m  File \u001b[0;32m\"/tmp/ipython-input-4043895020.py\"\u001b[0;36m, line \u001b[0;32m3\u001b[0m\n\u001b[0;31m    def square_root(5):\u001b[0m\n\u001b[0m                    ^\u001b[0m\n\u001b[0;31mSyntaxError\u001b[0m\u001b[0;31m:\u001b[0m invalid syntax\n"
          ]
        }
      ]
    },
    {
      "cell_type": "code",
      "source": [
        "# Square+5\n",
        "\n",
        "def square_5 (num):\n",
        "  print (num**2+5)\n",
        "\n",
        "square_5 (2)\n",
        "square_5 (5)"
      ],
      "metadata": {
        "colab": {
          "base_uri": "https://localhost:8080/"
        },
        "id": "jnPyVrkmwv4y",
        "outputId": "e83e02f0-fc38-4750-d879-e00560677b4b"
      },
      "execution_count": null,
      "outputs": [
        {
          "output_type": "stream",
          "name": "stdout",
          "text": [
            "9\n",
            "30\n"
          ]
        }
      ]
    },
    {
      "cell_type": "code",
      "source": [
        "# sum+5\n",
        "\n",
        "def sum_5(num):\n",
        "  print(num+5)\n",
        "\n",
        "sum_5 (2)\n",
        "sum_5 (10)"
      ],
      "metadata": {
        "colab": {
          "base_uri": "https://localhost:8080/"
        },
        "id": "tSSQ6obmxjzj",
        "outputId": "b1645c3e-c87c-46b3-99d2-535bcf6da504"
      },
      "execution_count": null,
      "outputs": [
        {
          "output_type": "stream",
          "name": "stdout",
          "text": [
            "7\n",
            "15\n"
          ]
        }
      ]
    },
    {
      "cell_type": "code",
      "source": [
        "# Square+5 & sum+5\n",
        "\n",
        "def square_5(num):\n",
        "  n = num**2+5\n",
        "  s = n+5\n",
        "  print(s)\n",
        "\n",
        "square_5(5)\n",
        "square_5(2)"
      ],
      "metadata": {
        "colab": {
          "base_uri": "https://localhost:8080/"
        },
        "id": "iefTPI-EzPVM",
        "outputId": "ab55ad11-6fb2-47ab-f249-4f881b6690d3"
      },
      "execution_count": null,
      "outputs": [
        {
          "output_type": "stream",
          "name": "stdout",
          "text": [
            "35\n",
            "14\n"
          ]
        }
      ]
    },
    {
      "cell_type": "code",
      "source": [
        "# Print Fruits with 'O'\n",
        "\n",
        "Fruits=['Apple','Mango','Banana','Orange','Pineapple']\n",
        "\n",
        "def o (Fruits):            # <--\n",
        "  for i in Fruits:\n",
        "    if i == o:             # <--\n",
        "      print('i')\n",
        "    else:                  # <--\n",
        "      print('not found')"
      ],
      "metadata": {
        "id": "vKnuK0i6zSnt"
      },
      "execution_count": 1,
      "outputs": []
    },
    {
      "cell_type": "code",
      "source": [
        "# Print Fruits with 'O'\n",
        "\n",
        "Fruits=['Apple','Mango','Banana','Orange','Pineapple']\n",
        "\n",
        "def fruits_o (Fruits):\n",
        "  for i in Fruits:\n",
        "    if 'o' in i.lower():\n",
        "      print(i)\n",
        "\n",
        "fruits_o (Fruits)"
      ],
      "metadata": {
        "colab": {
          "base_uri": "https://localhost:8080/"
        },
        "id": "u7_-VqHN7SD3",
        "outputId": "557080d8-9795-40c5-cc64-fd35fd261c82"
      },
      "execution_count": 6,
      "outputs": [
        {
          "output_type": "stream",
          "name": "stdout",
          "text": [
            "Mango\n",
            "Orange\n"
          ]
        }
      ]
    },
    {
      "cell_type": "code",
      "source": [
        "# Print Fruits with 'A'\n",
        "\n",
        "Fruits=['Apple','Mango','Banana','Orange','Pineapple']\n",
        "\n",
        "def fruits_a (Fruits):\n",
        "  for i in (Fruits):\n",
        "    if 'a' i.lower():\n",
        "      print(i)\n",
        "\n",
        "fruits_a (Fruits)"
      ],
      "metadata": {
        "colab": {
          "base_uri": "https://localhost:8080/",
          "height": 106
        },
        "id": "rKRAexhQ8KRl",
        "outputId": "1a6d14db-9da9-4d3c-de5c-2fd221d381ab"
      },
      "execution_count": 7,
      "outputs": [
        {
          "output_type": "error",
          "ename": "SyntaxError",
          "evalue": "invalid syntax (ipython-input-1452495945.py, line 7)",
          "traceback": [
            "\u001b[0;36m  File \u001b[0;32m\"/tmp/ipython-input-1452495945.py\"\u001b[0;36m, line \u001b[0;32m7\u001b[0m\n\u001b[0;31m    if 'a' i.lower():\u001b[0m\n\u001b[0m           ^\u001b[0m\n\u001b[0;31mSyntaxError\u001b[0m\u001b[0;31m:\u001b[0m invalid syntax\n"
          ]
        }
      ]
    },
    {
      "cell_type": "code",
      "source": [
        "# Print Fruits with 'A'\n",
        "\n",
        "Fruits=['Apple','Mango','Banana','Orange','Pineapple']\n",
        "\n",
        "def fruits_a (Fruits):\n",
        "  for i in (Fruits):\n",
        "    if 'a' in i.lower():     # <-- in\n",
        "      print(i)\n",
        "\n",
        "fruits_a (Fruits)"
      ],
      "metadata": {
        "colab": {
          "base_uri": "https://localhost:8080/"
        },
        "id": "4qfOPVdb8QLg",
        "outputId": "1062d79f-8067-4ae7-9673-9db878ac6350"
      },
      "execution_count": 8,
      "outputs": [
        {
          "output_type": "stream",
          "name": "stdout",
          "text": [
            "Apple\n",
            "Mango\n",
            "Banana\n",
            "Orange\n",
            "Pineapple\n"
          ]
        }
      ]
    },
    {
      "cell_type": "code",
      "source": [
        "def Fruits_With_O(*Fruits):   # *args is a Aribtrary Argument\n",
        "  for i in Fruits:\n",
        "    if 'o' in i.lower():\n",
        "      print(i)\n",
        "\n",
        "Fruits_With_O('Apple','Mango','Banana','Orange','Pineapple')   # <--"
      ],
      "metadata": {
        "colab": {
          "base_uri": "https://localhost:8080/"
        },
        "id": "lWEC_9hyGJZb",
        "outputId": "8a3b75ef-db52-4d04-de56-1ac90caf82f6"
      },
      "execution_count": 9,
      "outputs": [
        {
          "output_type": "stream",
          "name": "stdout",
          "text": [
            "Mango\n",
            "Orange\n"
          ]
        }
      ]
    },
    {
      "cell_type": "code",
      "source": [
        "def Details(**detail):      #keyword arguments **krgs\n",
        "  print(detail['name'])\n",
        "  print(detail['age'])\n",
        "  print(detail['gender'])\n",
        "  print(detail['Address'])\n",
        "  print(detail['Mobile'])"
      ],
      "metadata": {
        "id": "a_Y7DSTs9Owq"
      },
      "execution_count": 10,
      "outputs": []
    },
    {
      "cell_type": "code",
      "source": [
        "Details(name='Karthick',age=25,gender='Male',Address='Chennai',Pin=600097,Mobile=89764345786)"
      ],
      "metadata": {
        "colab": {
          "base_uri": "https://localhost:8080/"
        },
        "id": "PdpV6XICGF_C",
        "outputId": "8332ba8f-1643-4532-8c99-4fa012927d0e"
      },
      "execution_count": 11,
      "outputs": [
        {
          "output_type": "stream",
          "name": "stdout",
          "text": [
            "Karthick\n",
            "25\n",
            "Male\n",
            "Chennai\n",
            "89764345786\n"
          ]
        }
      ]
    },
    {
      "cell_type": "code",
      "source": [
        "# min & max\n",
        "nums=[2,4,6,7,8,9,10,100]\n",
        "\n",
        "print('Min' min(nums))   # <-- put comma ','\n",
        "print('Max' max(nums))   # <-- put comma ','"
      ],
      "metadata": {
        "colab": {
          "base_uri": "https://localhost:8080/",
          "height": 106
        },
        "id": "ZlHxVi2ZHlvu",
        "outputId": "8a7773da-0489-45ba-f23c-a9896b26d31a"
      },
      "execution_count": 12,
      "outputs": [
        {
          "output_type": "error",
          "ename": "SyntaxError",
          "evalue": "invalid syntax. Perhaps you forgot a comma? (ipython-input-194293718.py, line 4)",
          "traceback": [
            "\u001b[0;36m  File \u001b[0;32m\"/tmp/ipython-input-194293718.py\"\u001b[0;36m, line \u001b[0;32m4\u001b[0m\n\u001b[0;31m    print('Min' min(nums))\u001b[0m\n\u001b[0m          ^\u001b[0m\n\u001b[0;31mSyntaxError\u001b[0m\u001b[0;31m:\u001b[0m invalid syntax. Perhaps you forgot a comma?\n"
          ]
        }
      ]
    },
    {
      "cell_type": "code",
      "source": [
        "# min & max\n",
        "nums=[2,4,6,7,8,9,10,100]\n",
        "\n",
        "print('Min', min(nums))\n",
        "print('Max', max(nums))"
      ],
      "metadata": {
        "colab": {
          "base_uri": "https://localhost:8080/"
        },
        "id": "E7MM-8wUIAZM",
        "outputId": "e9e10a78-1b22-475a-bef2-bfaae779dce3"
      },
      "execution_count": 13,
      "outputs": [
        {
          "output_type": "stream",
          "name": "stdout",
          "text": [
            "Min 2\n",
            "Max 100\n"
          ]
        }
      ]
    }
  ]
}